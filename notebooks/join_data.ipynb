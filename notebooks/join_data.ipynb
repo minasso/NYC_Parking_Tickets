{
 "cells": [
  {
   "cell_type": "code",
   "execution_count": null,
   "id": "019ac4a0",
   "metadata": {},
   "outputs": [],
   "source": [
    "__depends__ = 'count_by_date.p'\n",
    "__dest__ = 'joined_data.p'"
   ]
  },
  {
   "cell_type": "code",
   "execution_count": 77,
   "id": "f62910e4",
   "metadata": {},
   "outputs": [],
   "source": [
    "import pandas as pd"
   ]
  },
  {
   "cell_type": "code",
   "execution_count": 38,
   "id": "df4fe5a1",
   "metadata": {},
   "outputs": [],
   "source": [
    "# pd.set_option('display.min_rows', 500)\n",
    "pd.reset_option('display.min_rows')"
   ]
  },
  {
   "cell_type": "code",
   "execution_count": 78,
   "id": "bbe8b416",
   "metadata": {},
   "outputs": [],
   "source": [
    "df = pd.read_pickle('count_by_date.p')"
   ]
  },
  {
   "cell_type": "code",
   "execution_count": 80,
   "id": "c5d7708b",
   "metadata": {
    "scrolled": false
   },
   "outputs": [],
   "source": [
    "df.drop('date', axis=1,inplace=True)"
   ]
  },
  {
   "cell_type": "code",
   "execution_count": 81,
   "id": "9cb3dfeb",
   "metadata": {},
   "outputs": [
    {
     "data": {
      "text/html": [
       "<div>\n",
       "<style scoped>\n",
       "    .dataframe tbody tr th:only-of-type {\n",
       "        vertical-align: middle;\n",
       "    }\n",
       "\n",
       "    .dataframe tbody tr th {\n",
       "        vertical-align: top;\n",
       "    }\n",
       "\n",
       "    .dataframe thead th {\n",
       "        text-align: right;\n",
       "    }\n",
       "</style>\n",
       "<table border=\"1\" class=\"dataframe\">\n",
       "  <thead>\n",
       "    <tr style=\"text-align: right;\">\n",
       "      <th></th>\n",
       "      <th>count</th>\n",
       "    </tr>\n",
       "    <tr>\n",
       "      <th>dt</th>\n",
       "      <th></th>\n",
       "    </tr>\n",
       "  </thead>\n",
       "  <tbody>\n",
       "    <tr>\n",
       "      <th>2016-01-02</th>\n",
       "      <td>348</td>\n",
       "    </tr>\n",
       "    <tr>\n",
       "      <th>2016-01-04</th>\n",
       "      <td>367</td>\n",
       "    </tr>\n",
       "    <tr>\n",
       "      <th>2016-01-05</th>\n",
       "      <td>363</td>\n",
       "    </tr>\n",
       "    <tr>\n",
       "      <th>2016-01-06</th>\n",
       "      <td>432</td>\n",
       "    </tr>\n",
       "    <tr>\n",
       "      <th>2016-01-07</th>\n",
       "      <td>463</td>\n",
       "    </tr>\n",
       "    <tr>\n",
       "      <th>...</th>\n",
       "      <td>...</td>\n",
       "    </tr>\n",
       "    <tr>\n",
       "      <th>2018-12-26</th>\n",
       "      <td>6570</td>\n",
       "    </tr>\n",
       "    <tr>\n",
       "      <th>2018-12-27</th>\n",
       "      <td>5904</td>\n",
       "    </tr>\n",
       "    <tr>\n",
       "      <th>2018-12-28</th>\n",
       "      <td>3004</td>\n",
       "    </tr>\n",
       "    <tr>\n",
       "      <th>2018-12-29</th>\n",
       "      <td>5605</td>\n",
       "    </tr>\n",
       "    <tr>\n",
       "      <th>2018-12-31</th>\n",
       "      <td>2563</td>\n",
       "    </tr>\n",
       "  </tbody>\n",
       "</table>\n",
       "<p>1034 rows × 1 columns</p>\n",
       "</div>"
      ],
      "text/plain": [
       "            count\n",
       "dt               \n",
       "2016-01-02    348\n",
       "2016-01-04    367\n",
       "2016-01-05    363\n",
       "2016-01-06    432\n",
       "2016-01-07    463\n",
       "...           ...\n",
       "2018-12-26   6570\n",
       "2018-12-27   5904\n",
       "2018-12-28   3004\n",
       "2018-12-29   5605\n",
       "2018-12-31   2563\n",
       "\n",
       "[1034 rows x 1 columns]"
      ]
     },
     "execution_count": 81,
     "metadata": {},
     "output_type": "execute_result"
    }
   ],
   "source": [
    "df"
   ]
  },
  {
   "cell_type": "code",
   "execution_count": 92,
   "id": "5f54d672",
   "metadata": {},
   "outputs": [],
   "source": [
    "f = pd.read_csv('temp_clean.csv')"
   ]
  },
  {
   "cell_type": "code",
   "execution_count": 96,
   "id": "bf988be1",
   "metadata": {},
   "outputs": [
    {
     "data": {
      "text/html": [
       "<div>\n",
       "<style scoped>\n",
       "    .dataframe tbody tr th:only-of-type {\n",
       "        vertical-align: middle;\n",
       "    }\n",
       "\n",
       "    .dataframe tbody tr th {\n",
       "        vertical-align: top;\n",
       "    }\n",
       "\n",
       "    .dataframe thead th {\n",
       "        text-align: right;\n",
       "    }\n",
       "</style>\n",
       "<table border=\"1\" class=\"dataframe\">\n",
       "  <thead>\n",
       "    <tr style=\"text-align: right;\">\n",
       "      <th></th>\n",
       "      <th>time</th>\n",
       "      <th>temperature_2m (°C)</th>\n",
       "      <th>precipitation (mm)</th>\n",
       "      <th>rain (mm)</th>\n",
       "    </tr>\n",
       "  </thead>\n",
       "  <tbody>\n",
       "    <tr>\n",
       "      <th>0</th>\n",
       "      <td>2016-01-01 00:00:00</td>\n",
       "      <td>7.6</td>\n",
       "      <td>0.0</td>\n",
       "      <td>0.0</td>\n",
       "    </tr>\n",
       "    <tr>\n",
       "      <th>1</th>\n",
       "      <td>2016-01-01 01:00:00</td>\n",
       "      <td>7.5</td>\n",
       "      <td>0.0</td>\n",
       "      <td>0.0</td>\n",
       "    </tr>\n",
       "    <tr>\n",
       "      <th>2</th>\n",
       "      <td>2016-01-01 02:00:00</td>\n",
       "      <td>7.1</td>\n",
       "      <td>0.0</td>\n",
       "      <td>0.0</td>\n",
       "    </tr>\n",
       "    <tr>\n",
       "      <th>3</th>\n",
       "      <td>2016-01-01 03:00:00</td>\n",
       "      <td>6.6</td>\n",
       "      <td>0.0</td>\n",
       "      <td>0.0</td>\n",
       "    </tr>\n",
       "    <tr>\n",
       "      <th>4</th>\n",
       "      <td>2016-01-01 04:00:00</td>\n",
       "      <td>6.3</td>\n",
       "      <td>0.0</td>\n",
       "      <td>0.0</td>\n",
       "    </tr>\n",
       "    <tr>\n",
       "      <th>...</th>\n",
       "      <td>...</td>\n",
       "      <td>...</td>\n",
       "      <td>...</td>\n",
       "      <td>...</td>\n",
       "    </tr>\n",
       "    <tr>\n",
       "      <th>59582</th>\n",
       "      <td>2022-10-19 19:00:00</td>\n",
       "      <td>12.2</td>\n",
       "      <td>0.0</td>\n",
       "      <td>0.0</td>\n",
       "    </tr>\n",
       "    <tr>\n",
       "      <th>59583</th>\n",
       "      <td>2022-10-19 20:00:00</td>\n",
       "      <td>12.2</td>\n",
       "      <td>0.0</td>\n",
       "      <td>0.0</td>\n",
       "    </tr>\n",
       "    <tr>\n",
       "      <th>59584</th>\n",
       "      <td>2022-10-19 21:00:00</td>\n",
       "      <td>12.2</td>\n",
       "      <td>0.0</td>\n",
       "      <td>0.0</td>\n",
       "    </tr>\n",
       "    <tr>\n",
       "      <th>59585</th>\n",
       "      <td>2022-10-19 22:00:00</td>\n",
       "      <td>11.1</td>\n",
       "      <td>0.0</td>\n",
       "      <td>0.0</td>\n",
       "    </tr>\n",
       "    <tr>\n",
       "      <th>59586</th>\n",
       "      <td>2022-10-19 23:00:00</td>\n",
       "      <td>10.4</td>\n",
       "      <td>0.0</td>\n",
       "      <td>0.0</td>\n",
       "    </tr>\n",
       "  </tbody>\n",
       "</table>\n",
       "<p>59587 rows × 4 columns</p>\n",
       "</div>"
      ],
      "text/plain": [
       "                      time  temperature_2m (°C)  precipitation (mm)  rain (mm)\n",
       "0      2016-01-01 00:00:00                  7.6                 0.0        0.0\n",
       "1      2016-01-01 01:00:00                  7.5                 0.0        0.0\n",
       "2      2016-01-01 02:00:00                  7.1                 0.0        0.0\n",
       "3      2016-01-01 03:00:00                  6.6                 0.0        0.0\n",
       "4      2016-01-01 04:00:00                  6.3                 0.0        0.0\n",
       "...                    ...                  ...                 ...        ...\n",
       "59582  2022-10-19 19:00:00                 12.2                 0.0        0.0\n",
       "59583  2022-10-19 20:00:00                 12.2                 0.0        0.0\n",
       "59584  2022-10-19 21:00:00                 12.2                 0.0        0.0\n",
       "59585  2022-10-19 22:00:00                 11.1                 0.0        0.0\n",
       "59586  2022-10-19 23:00:00                 10.4                 0.0        0.0\n",
       "\n",
       "[59587 rows x 4 columns]"
      ]
     },
     "execution_count": 96,
     "metadata": {},
     "output_type": "execute_result"
    }
   ],
   "source": [
    "f"
   ]
  },
  {
   "cell_type": "code",
   "execution_count": 97,
   "id": "0912ddad",
   "metadata": {},
   "outputs": [
    {
     "name": "stdout",
     "output_type": "stream",
     "text": [
      "<class 'pandas.core.frame.DataFrame'>\n",
      "RangeIndex: 59587 entries, 0 to 59586\n",
      "Data columns (total 4 columns):\n",
      " #   Column               Non-Null Count  Dtype  \n",
      "---  ------               --------------  -----  \n",
      " 0   time                 59587 non-null  object \n",
      " 1   temperature_2m (°C)  59587 non-null  float64\n",
      " 2   precipitation (mm)   59587 non-null  float64\n",
      " 3   rain (mm)            59587 non-null  float64\n",
      "dtypes: float64(3), object(1)\n",
      "memory usage: 1.8+ MB\n"
     ]
    }
   ],
   "source": [
    "f.info()"
   ]
  },
  {
   "cell_type": "code",
   "execution_count": 98,
   "id": "c5fece89",
   "metadata": {},
   "outputs": [],
   "source": [
    "f['time'] = pd.to_datetime(f['time'])"
   ]
  },
  {
   "cell_type": "code",
   "execution_count": 100,
   "id": "73879325",
   "metadata": {},
   "outputs": [],
   "source": [
    "f = f.set_index('time')"
   ]
  },
  {
   "cell_type": "code",
   "execution_count": 101,
   "id": "d1c9f031",
   "metadata": {},
   "outputs": [],
   "source": [
    "f.columns = ['temp', 'precip', 'rain']"
   ]
  },
  {
   "cell_type": "code",
   "execution_count": 102,
   "id": "3f6a0ed7",
   "metadata": {},
   "outputs": [
    {
     "data": {
      "text/html": [
       "<div>\n",
       "<style scoped>\n",
       "    .dataframe tbody tr th:only-of-type {\n",
       "        vertical-align: middle;\n",
       "    }\n",
       "\n",
       "    .dataframe tbody tr th {\n",
       "        vertical-align: top;\n",
       "    }\n",
       "\n",
       "    .dataframe thead th {\n",
       "        text-align: right;\n",
       "    }\n",
       "</style>\n",
       "<table border=\"1\" class=\"dataframe\">\n",
       "  <thead>\n",
       "    <tr style=\"text-align: right;\">\n",
       "      <th></th>\n",
       "      <th>temp</th>\n",
       "      <th>precip</th>\n",
       "      <th>rain</th>\n",
       "    </tr>\n",
       "    <tr>\n",
       "      <th>time</th>\n",
       "      <th></th>\n",
       "      <th></th>\n",
       "      <th></th>\n",
       "    </tr>\n",
       "  </thead>\n",
       "  <tbody>\n",
       "    <tr>\n",
       "      <th>2016-01-01 00:00:00</th>\n",
       "      <td>7.6</td>\n",
       "      <td>0.0</td>\n",
       "      <td>0.0</td>\n",
       "    </tr>\n",
       "    <tr>\n",
       "      <th>2016-01-01 01:00:00</th>\n",
       "      <td>7.5</td>\n",
       "      <td>0.0</td>\n",
       "      <td>0.0</td>\n",
       "    </tr>\n",
       "    <tr>\n",
       "      <th>2016-01-01 02:00:00</th>\n",
       "      <td>7.1</td>\n",
       "      <td>0.0</td>\n",
       "      <td>0.0</td>\n",
       "    </tr>\n",
       "    <tr>\n",
       "      <th>2016-01-01 03:00:00</th>\n",
       "      <td>6.6</td>\n",
       "      <td>0.0</td>\n",
       "      <td>0.0</td>\n",
       "    </tr>\n",
       "    <tr>\n",
       "      <th>2016-01-01 04:00:00</th>\n",
       "      <td>6.3</td>\n",
       "      <td>0.0</td>\n",
       "      <td>0.0</td>\n",
       "    </tr>\n",
       "    <tr>\n",
       "      <th>...</th>\n",
       "      <td>...</td>\n",
       "      <td>...</td>\n",
       "      <td>...</td>\n",
       "    </tr>\n",
       "    <tr>\n",
       "      <th>2022-10-19 19:00:00</th>\n",
       "      <td>12.2</td>\n",
       "      <td>0.0</td>\n",
       "      <td>0.0</td>\n",
       "    </tr>\n",
       "    <tr>\n",
       "      <th>2022-10-19 20:00:00</th>\n",
       "      <td>12.2</td>\n",
       "      <td>0.0</td>\n",
       "      <td>0.0</td>\n",
       "    </tr>\n",
       "    <tr>\n",
       "      <th>2022-10-19 21:00:00</th>\n",
       "      <td>12.2</td>\n",
       "      <td>0.0</td>\n",
       "      <td>0.0</td>\n",
       "    </tr>\n",
       "    <tr>\n",
       "      <th>2022-10-19 22:00:00</th>\n",
       "      <td>11.1</td>\n",
       "      <td>0.0</td>\n",
       "      <td>0.0</td>\n",
       "    </tr>\n",
       "    <tr>\n",
       "      <th>2022-10-19 23:00:00</th>\n",
       "      <td>10.4</td>\n",
       "      <td>0.0</td>\n",
       "      <td>0.0</td>\n",
       "    </tr>\n",
       "  </tbody>\n",
       "</table>\n",
       "<p>59587 rows × 3 columns</p>\n",
       "</div>"
      ],
      "text/plain": [
       "                     temp  precip  rain\n",
       "time                                   \n",
       "2016-01-01 00:00:00   7.6     0.0   0.0\n",
       "2016-01-01 01:00:00   7.5     0.0   0.0\n",
       "2016-01-01 02:00:00   7.1     0.0   0.0\n",
       "2016-01-01 03:00:00   6.6     0.0   0.0\n",
       "2016-01-01 04:00:00   6.3     0.0   0.0\n",
       "...                   ...     ...   ...\n",
       "2022-10-19 19:00:00  12.2     0.0   0.0\n",
       "2022-10-19 20:00:00  12.2     0.0   0.0\n",
       "2022-10-19 21:00:00  12.2     0.0   0.0\n",
       "2022-10-19 22:00:00  11.1     0.0   0.0\n",
       "2022-10-19 23:00:00  10.4     0.0   0.0\n",
       "\n",
       "[59587 rows x 3 columns]"
      ]
     },
     "execution_count": 102,
     "metadata": {},
     "output_type": "execute_result"
    }
   ],
   "source": [
    "f"
   ]
  },
  {
   "cell_type": "code",
   "execution_count": 103,
   "id": "c4305b35",
   "metadata": {},
   "outputs": [],
   "source": [
    "f = f.resample('d').agg({'temp':'mean','precip':'sum','rain':'sum'})"
   ]
  },
  {
   "cell_type": "code",
   "execution_count": 104,
   "id": "f1b29630",
   "metadata": {},
   "outputs": [],
   "source": [
    "frame = df.join(f)"
   ]
  },
  {
   "cell_type": "code",
   "execution_count": 105,
   "id": "ecfccc97",
   "metadata": {
    "scrolled": true
   },
   "outputs": [
    {
     "data": {
      "text/html": [
       "<div>\n",
       "<style scoped>\n",
       "    .dataframe tbody tr th:only-of-type {\n",
       "        vertical-align: middle;\n",
       "    }\n",
       "\n",
       "    .dataframe tbody tr th {\n",
       "        vertical-align: top;\n",
       "    }\n",
       "\n",
       "    .dataframe thead th {\n",
       "        text-align: right;\n",
       "    }\n",
       "</style>\n",
       "<table border=\"1\" class=\"dataframe\">\n",
       "  <thead>\n",
       "    <tr style=\"text-align: right;\">\n",
       "      <th></th>\n",
       "      <th>count</th>\n",
       "      <th>temp</th>\n",
       "      <th>precip</th>\n",
       "      <th>rain</th>\n",
       "    </tr>\n",
       "    <tr>\n",
       "      <th>dt</th>\n",
       "      <th></th>\n",
       "      <th></th>\n",
       "      <th></th>\n",
       "      <th></th>\n",
       "    </tr>\n",
       "  </thead>\n",
       "  <tbody>\n",
       "    <tr>\n",
       "      <th>2016-01-02</th>\n",
       "      <td>348</td>\n",
       "      <td>2.387500</td>\n",
       "      <td>0.0</td>\n",
       "      <td>0.0</td>\n",
       "    </tr>\n",
       "    <tr>\n",
       "      <th>2016-01-04</th>\n",
       "      <td>367</td>\n",
       "      <td>0.100000</td>\n",
       "      <td>0.0</td>\n",
       "      <td>0.0</td>\n",
       "    </tr>\n",
       "    <tr>\n",
       "      <th>2016-01-05</th>\n",
       "      <td>363</td>\n",
       "      <td>-6.775000</td>\n",
       "      <td>0.0</td>\n",
       "      <td>0.0</td>\n",
       "    </tr>\n",
       "    <tr>\n",
       "      <th>2016-01-06</th>\n",
       "      <td>432</td>\n",
       "      <td>-2.275000</td>\n",
       "      <td>0.0</td>\n",
       "      <td>0.0</td>\n",
       "    </tr>\n",
       "    <tr>\n",
       "      <th>2016-01-07</th>\n",
       "      <td>463</td>\n",
       "      <td>0.516667</td>\n",
       "      <td>0.0</td>\n",
       "      <td>0.0</td>\n",
       "    </tr>\n",
       "    <tr>\n",
       "      <th>...</th>\n",
       "      <td>...</td>\n",
       "      <td>...</td>\n",
       "      <td>...</td>\n",
       "      <td>...</td>\n",
       "    </tr>\n",
       "    <tr>\n",
       "      <th>2018-12-26</th>\n",
       "      <td>6570</td>\n",
       "      <td>1.883333</td>\n",
       "      <td>0.0</td>\n",
       "      <td>0.0</td>\n",
       "    </tr>\n",
       "    <tr>\n",
       "      <th>2018-12-27</th>\n",
       "      <td>5904</td>\n",
       "      <td>2.979167</td>\n",
       "      <td>0.0</td>\n",
       "      <td>0.0</td>\n",
       "    </tr>\n",
       "    <tr>\n",
       "      <th>2018-12-28</th>\n",
       "      <td>3004</td>\n",
       "      <td>7.741667</td>\n",
       "      <td>22.1</td>\n",
       "      <td>22.1</td>\n",
       "    </tr>\n",
       "    <tr>\n",
       "      <th>2018-12-29</th>\n",
       "      <td>5605</td>\n",
       "      <td>10.116667</td>\n",
       "      <td>0.0</td>\n",
       "      <td>0.0</td>\n",
       "    </tr>\n",
       "    <tr>\n",
       "      <th>2018-12-31</th>\n",
       "      <td>2563</td>\n",
       "      <td>2.954167</td>\n",
       "      <td>4.3</td>\n",
       "      <td>4.3</td>\n",
       "    </tr>\n",
       "  </tbody>\n",
       "</table>\n",
       "<p>1034 rows × 4 columns</p>\n",
       "</div>"
      ],
      "text/plain": [
       "            count       temp  precip  rain\n",
       "dt                                        \n",
       "2016-01-02    348   2.387500     0.0   0.0\n",
       "2016-01-04    367   0.100000     0.0   0.0\n",
       "2016-01-05    363  -6.775000     0.0   0.0\n",
       "2016-01-06    432  -2.275000     0.0   0.0\n",
       "2016-01-07    463   0.516667     0.0   0.0\n",
       "...           ...        ...     ...   ...\n",
       "2018-12-26   6570   1.883333     0.0   0.0\n",
       "2018-12-27   5904   2.979167     0.0   0.0\n",
       "2018-12-28   3004   7.741667    22.1  22.1\n",
       "2018-12-29   5605  10.116667     0.0   0.0\n",
       "2018-12-31   2563   2.954167     4.3   4.3\n",
       "\n",
       "[1034 rows x 4 columns]"
      ]
     },
     "execution_count": 105,
     "metadata": {},
     "output_type": "execute_result"
    }
   ],
   "source": [
    "frame"
   ]
  },
  {
   "cell_type": "markdown",
   "id": "846125a6",
   "metadata": {},
   "source": [
    "Let's remove the holidays and sundays from the data"
   ]
  },
  {
   "cell_type": "code",
   "execution_count": 107,
   "id": "fd5a4a64",
   "metadata": {},
   "outputs": [],
   "source": [
    "frame = frame.loc[frame['count']>50]"
   ]
  },
  {
   "cell_type": "code",
   "execution_count": 108,
   "id": "4da74e4c",
   "metadata": {},
   "outputs": [
    {
     "data": {
      "text/html": [
       "<div>\n",
       "<style scoped>\n",
       "    .dataframe tbody tr th:only-of-type {\n",
       "        vertical-align: middle;\n",
       "    }\n",
       "\n",
       "    .dataframe tbody tr th {\n",
       "        vertical-align: top;\n",
       "    }\n",
       "\n",
       "    .dataframe thead th {\n",
       "        text-align: right;\n",
       "    }\n",
       "</style>\n",
       "<table border=\"1\" class=\"dataframe\">\n",
       "  <thead>\n",
       "    <tr style=\"text-align: right;\">\n",
       "      <th></th>\n",
       "      <th>count</th>\n",
       "      <th>temp</th>\n",
       "      <th>precip</th>\n",
       "      <th>rain</th>\n",
       "    </tr>\n",
       "    <tr>\n",
       "      <th>dt</th>\n",
       "      <th></th>\n",
       "      <th></th>\n",
       "      <th></th>\n",
       "      <th></th>\n",
       "    </tr>\n",
       "  </thead>\n",
       "  <tbody>\n",
       "    <tr>\n",
       "      <th>2016-01-02</th>\n",
       "      <td>348</td>\n",
       "      <td>2.387500</td>\n",
       "      <td>0.0</td>\n",
       "      <td>0.0</td>\n",
       "    </tr>\n",
       "    <tr>\n",
       "      <th>2016-01-04</th>\n",
       "      <td>367</td>\n",
       "      <td>0.100000</td>\n",
       "      <td>0.0</td>\n",
       "      <td>0.0</td>\n",
       "    </tr>\n",
       "    <tr>\n",
       "      <th>2016-01-05</th>\n",
       "      <td>363</td>\n",
       "      <td>-6.775000</td>\n",
       "      <td>0.0</td>\n",
       "      <td>0.0</td>\n",
       "    </tr>\n",
       "    <tr>\n",
       "      <th>2016-01-06</th>\n",
       "      <td>432</td>\n",
       "      <td>-2.275000</td>\n",
       "      <td>0.0</td>\n",
       "      <td>0.0</td>\n",
       "    </tr>\n",
       "    <tr>\n",
       "      <th>2016-01-07</th>\n",
       "      <td>463</td>\n",
       "      <td>0.516667</td>\n",
       "      <td>0.0</td>\n",
       "      <td>0.0</td>\n",
       "    </tr>\n",
       "    <tr>\n",
       "      <th>...</th>\n",
       "      <td>...</td>\n",
       "      <td>...</td>\n",
       "      <td>...</td>\n",
       "      <td>...</td>\n",
       "    </tr>\n",
       "    <tr>\n",
       "      <th>2018-12-26</th>\n",
       "      <td>6570</td>\n",
       "      <td>1.883333</td>\n",
       "      <td>0.0</td>\n",
       "      <td>0.0</td>\n",
       "    </tr>\n",
       "    <tr>\n",
       "      <th>2018-12-27</th>\n",
       "      <td>5904</td>\n",
       "      <td>2.979167</td>\n",
       "      <td>0.0</td>\n",
       "      <td>0.0</td>\n",
       "    </tr>\n",
       "    <tr>\n",
       "      <th>2018-12-28</th>\n",
       "      <td>3004</td>\n",
       "      <td>7.741667</td>\n",
       "      <td>22.1</td>\n",
       "      <td>22.1</td>\n",
       "    </tr>\n",
       "    <tr>\n",
       "      <th>2018-12-29</th>\n",
       "      <td>5605</td>\n",
       "      <td>10.116667</td>\n",
       "      <td>0.0</td>\n",
       "      <td>0.0</td>\n",
       "    </tr>\n",
       "    <tr>\n",
       "      <th>2018-12-31</th>\n",
       "      <td>2563</td>\n",
       "      <td>2.954167</td>\n",
       "      <td>4.3</td>\n",
       "      <td>4.3</td>\n",
       "    </tr>\n",
       "  </tbody>\n",
       "</table>\n",
       "<p>916 rows × 4 columns</p>\n",
       "</div>"
      ],
      "text/plain": [
       "            count       temp  precip  rain\n",
       "dt                                        \n",
       "2016-01-02    348   2.387500     0.0   0.0\n",
       "2016-01-04    367   0.100000     0.0   0.0\n",
       "2016-01-05    363  -6.775000     0.0   0.0\n",
       "2016-01-06    432  -2.275000     0.0   0.0\n",
       "2016-01-07    463   0.516667     0.0   0.0\n",
       "...           ...        ...     ...   ...\n",
       "2018-12-26   6570   1.883333     0.0   0.0\n",
       "2018-12-27   5904   2.979167     0.0   0.0\n",
       "2018-12-28   3004   7.741667    22.1  22.1\n",
       "2018-12-29   5605  10.116667     0.0   0.0\n",
       "2018-12-31   2563   2.954167     4.3   4.3\n",
       "\n",
       "[916 rows x 4 columns]"
      ]
     },
     "execution_count": 108,
     "metadata": {},
     "output_type": "execute_result"
    }
   ],
   "source": [
    "frame"
   ]
  },
  {
   "cell_type": "code",
   "execution_count": 116,
   "id": "ebb0caf1",
   "metadata": {},
   "outputs": [
    {
     "data": {
      "text/plain": [
       "<AxesSubplot:xlabel='dt'>"
      ]
     },
     "execution_count": 116,
     "metadata": {},
     "output_type": "execute_result"
    },
    {
     "data": {
      "image/png": "[encoded data removed]",
      "text/plain": [
       "<Figure size 1008x432 with 1 Axes>"
      ]
     },
     "metadata": {
      "needs_background": "light"
     },
     "output_type": "display_data"
    }
   ],
   "source": [
    "import matplotlib.pyplot as plt\n",
    "plt.figure(figsize=(14,6))\n",
    "frame['count'].plot()"
   ]
  },
  {
   "cell_type": "code",
   "execution_count": 113,
   "id": "fd3d2123",
   "metadata": {
    "scrolled": true
   },
   "outputs": [
    {
     "data": {
      "text/plain": [
       "dt\n",
       "2016-01-02     348\n",
       "2016-01-04     367\n",
       "2016-01-05     363\n",
       "2016-01-06     432\n",
       "2016-01-07     463\n",
       "              ... \n",
       "2018-12-26    6570\n",
       "2018-12-27    5904\n",
       "2018-12-28    3004\n",
       "2018-12-29    5605\n",
       "2018-12-31    2563\n",
       "Name: count, Length: 916, dtype: int64"
      ]
     },
     "execution_count": 113,
     "metadata": {},
     "output_type": "execute_result"
    }
   ],
   "source": [
    "frame['count']"
   ]
  },
  {
   "cell_type": "markdown",
   "id": "b16f7314",
   "metadata": {},
   "source": [
    "The amount of tickets given per day rose steeply in early 2016 and stabalized in may 2016. We will remove any data prior to may 2016."
   ]
  },
  {
   "cell_type": "code",
   "execution_count": 114,
   "id": "36830c30",
   "metadata": {},
   "outputs": [],
   "source": [
    "frame = frame.loc['2016-05-04':]"
   ]
  },
  {
   "cell_type": "code",
   "execution_count": 115,
   "id": "7a8a53c3",
   "metadata": {},
   "outputs": [],
   "source": [
    "frame.to_pickle('joined_data.p')"
   ]
  }
 ],
 "metadata": {
  "kernelspec": {
   "display_name": "Python 3 (ipykernel)",
   "language": "python",
   "name": "python3"
  },
  "language_info": {
   "codemirror_mode": {
    "name": "ipython",
    "version": 3
   },
   "file_extension": ".py",
   "mimetype": "text/x-python",
   "name": "python",
   "nbconvert_exporter": "python",
   "pygments_lexer": "ipython3",
   "version": "3.12.0"
  }
 },
 "nbformat": 4,
 "nbformat_minor": 5
}
